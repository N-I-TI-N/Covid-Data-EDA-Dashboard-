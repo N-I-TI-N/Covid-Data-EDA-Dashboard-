{
 "cells": [
  {
   "cell_type": "code",
   "execution_count": 1,
   "id": "0388932c",
   "metadata": {},
   "outputs": [
    {
     "name": "stdout",
     "output_type": "stream",
     "text": [
      "Requirement already satisfied: numpy in e:\\anconda\\lib\\site-packages (1.24.3)\n",
      "Note: you may need to restart the kernel to use updated packages.\n"
     ]
    }
   ],
   "source": [
    "pip install numpy"
   ]
  },
  {
   "cell_type": "code",
   "execution_count": 2,
   "id": "d746349d",
   "metadata": {},
   "outputs": [
    {
     "name": "stdout",
     "output_type": "stream",
     "text": [
      "Requirement already satisfied: pycountry in e:\\anconda\\lib\\site-packages (22.3.5)\n",
      "Requirement already satisfied: setuptools in e:\\anconda\\lib\\site-packages (from pycountry) (68.0.0)\n",
      "Note: you may need to restart the kernel to use updated packages.\n"
     ]
    }
   ],
   "source": [
    "pip install pycountry"
   ]
  },
  {
   "cell_type": "code",
   "execution_count": 3,
   "id": "4d8e23f0",
   "metadata": {},
   "outputs": [
    {
     "name": "stdout",
     "output_type": "stream",
     "text": [
      "Requirement already satisfied: faker in e:\\anconda\\lib\\site-packages (19.3.1)\n",
      "Requirement already satisfied: python-dateutil>=2.4 in e:\\anconda\\lib\\site-packages (from faker) (2.8.2)\n",
      "Requirement already satisfied: six>=1.5 in e:\\anconda\\lib\\site-packages (from python-dateutil>=2.4->faker) (1.16.0)\n",
      "Note: you may need to restart the kernel to use updated packages.\n"
     ]
    }
   ],
   "source": [
    "pip install faker"
   ]
  },
  {
   "cell_type": "code",
   "execution_count": 13,
   "id": "c4a9bf22",
   "metadata": {},
   "outputs": [
    {
     "name": "stdout",
     "output_type": "stream",
     "text": [
      "Requirement already satisfied: pymongo in e:\\anconda\\lib\\site-packages (4.5.0)\n",
      "Requirement already satisfied: dnspython<3.0.0,>=1.16.0 in e:\\anconda\\lib\\site-packages (from pymongo) (2.4.2)\n",
      "Note: you may need to restart the kernel to use updated packages.\n"
     ]
    }
   ],
   "source": [
    "pip install pymongo"
   ]
  },
  {
   "cell_type": "code",
   "execution_count": 2,
   "id": "800182c5",
   "metadata": {
    "scrolled": false
   },
   "outputs": [
    {
     "name": "stdout",
     "output_type": "stream",
     "text": [
      "Age Group Counts: {'20-25': 278, '25-35': 693, '35-50': 186}\n"
     ]
    }
   ],
   "source": [
    "import random\n",
    "from datetime import datetime, timedelta\n",
    "\n",
    "def generate_birthday():\n",
    "    # Generate random age following a distribution\n",
    "    age = random.choices([\n",
    "        random.randint(20, 25),  # Less frequent\n",
    "        random.randint(25, 30),  # Most frequent\n",
    "        random.randint(30, 35),  # More frequent\n",
    "        random.randint(35, 50)   # Least frequent\n",
    "    ],weights=[3,5,4,2])[0]\n",
    "    \n",
    "    # Calculate corresponding birthdate based on age\n",
    "    birth_year = datetime.now().year - age\n",
    "    birth_month = random.randint(1, 12)\n",
    "    birth_day = random.randint(1, 28)  # Assuming maximum day is 28 for simplicity\n",
    "    \n",
    "    birthdate = datetime(birth_year, birth_month, birth_day)\n",
    "    return birthdate.strftime(\"%Y-%m-%d\")\n",
    "\n",
    "# Generate a list of birthdays\n",
    "num_birthdays = 1000  # Adjust as needed\n",
    "birthdays = [generate_birthday() for _ in range(num_birthdays)]\n",
    "\n",
    "# Count the occurrences of each age group\n",
    "age_counts = {\n",
    "    \"20-25\": sum(20 <= (datetime.now().year - datetime.strptime(bd, \"%Y-%m-%d\").year) <= 25 for bd in birthdays),\n",
    "    \"25-35\": sum(25 <= (datetime.now().year - datetime.strptime(bd, \"%Y-%m-%d\").year) <= 35 for bd in birthdays),\n",
    "    \"35-50\": sum(35 <= (datetime.now().year - datetime.strptime(bd, \"%Y-%m-%d\").year) <= 50 for bd in birthdays)\n",
    "}\n",
    "\n",
    "print(\"Age Group Counts:\", age_counts)\n"
   ]
  },
  {
   "cell_type": "code",
   "execution_count": 2,
   "id": "3605d53c",
   "metadata": {},
   "outputs": [],
   "source": [
    "import random\n",
    "from datetime import datetime, timedelta\n",
    "\n",
    "def generate_birthday():\n",
    "    # Generate random age following a distribution\n",
    "    age = random.choices([\n",
    "        random.randint(20, 25),  # Less frequent\n",
    "        random.randint(25, 30),  # Most frequent\n",
    "        random.randint(30, 35),  # More frequent\n",
    "        random.randint(35, 50)   # Least frequent\n",
    "    ],weights=[3,5,4,2])[0]\n",
    "    \n",
    "    # Calculate corresponding birthdate based on age\n",
    "    birth_year = datetime.now().year - age\n",
    "    birth_month = random.randint(1, 12)\n",
    "    birth_day = random.randint(1, 28)  # Assuming maximum day is 28 for simplicity\n",
    "    \n",
    "    birthdate = datetime(birth_year, birth_month, birth_day)\n",
    "    return birthdate\n"
   ]
  },
  {
   "cell_type": "code",
   "execution_count": 10,
   "id": "ab95386f",
   "metadata": {},
   "outputs": [
    {
     "data": {
      "text/plain": [
       "datetime.datetime(1996, 8, 25, 0, 0)"
      ]
     },
     "execution_count": 10,
     "metadata": {},
     "output_type": "execute_result"
    }
   ],
   "source": [
    "generate_birthday()"
   ]
  },
  {
   "cell_type": "code",
   "execution_count": 3,
   "id": "04173a86",
   "metadata": {},
   "outputs": [],
   "source": [
    "import json\n",
    "import random\n",
    "from datetime import datetime, timedelta\n",
    "from faker import Faker\n",
    "import pycountry\n",
    "\n",
    "# Create a Faker object\n",
    "fake = Faker()\n",
    "\n",
    "# Get a list of all countries and Extracting names of each country\n",
    "all_countries = list(pycountry.countries)\n",
    "countries = [country.alpha_3 for country in all_countries]\n",
    "# List of possible gender values\n",
    "genders = [\"male\", \"female\"]\n",
    "\n",
    "# List of possible highestDegree values and weights to create biased data\n",
    "degree = [\"Bachelor's Degree\",\"Master's Degree\",\"Doctorate\",\"Post Doctorate\"]\n",
    "w1=[4,5,2,1]\n",
    "\n",
    "# List of quiz_status and weights to create biased data\n",
    "status=[\"complete\",\"incomplete\"]\n",
    "w2=[5,2]\n",
    "\n",
    "\n",
    "start_date = datetime(2023, 8, 1)\n",
    "end_date = datetime(2023, 9, 30)\n",
    "\n",
    "applicants = []\n",
    "current_date = start_date\n",
    "\n",
    "while current_date <= end_date:\n",
    "    num_applicants = random.randint(25, 50)\n",
    "    for _ in range(num_applicants):\n",
    "        dummy_name = fake.name()\n",
    "        quiz_status= random.choices(status, weights=w2)[0]\n",
    "        applicant = {\n",
    "            \"_id\": len(applicants) + 1,\n",
    "            \"createdAt\": (current_date + timedelta(seconds=random.uniform(0,24*60*60))),\n",
    "            \"name\": dummy_name,\n",
    "            \"email\": f\"{dummy_name}@gmail.com\",\n",
    "            \"birthday\": generate_birthday(),\n",
    "            \"gender\": random.choice(genders),\n",
    "            \"highestDegree\": random.choices(degree, weights=w1)[0],\n",
    "            \"quizStatus\": random.choices(status, weights=w2)[0],\n",
    "            \"country\": random.choice(countries)\n",
    "        }\n",
    "        if applicant[\"quizStatus\"]==\"complete\":\n",
    "            applicant[\"quizscore\"]=random.randint(50, 100)\n",
    "        applicants.append(applicant)\n",
    "    \n",
    "    current_date += timedelta(days=1)\n"
   ]
  },
  {
   "cell_type": "code",
   "execution_count": 14,
   "id": "9cef1f9f",
   "metadata": {},
   "outputs": [],
   "source": [
    "from pymongo import MongoClient\n",
    "from pprint import PrettyPrinter"
   ]
  },
  {
   "cell_type": "code",
   "execution_count": 15,
   "id": "abbc6d53",
   "metadata": {},
   "outputs": [],
   "source": [
    "pp=PrettyPrinter(indent=2)"
   ]
  },
  {
   "cell_type": "code",
   "execution_count": 19,
   "id": "283b4453",
   "metadata": {},
   "outputs": [
    {
     "name": "stdout",
     "output_type": "stream",
     "text": [
      "Pinged your deployment. You successfully connected to MongoDB!\n"
     ]
    }
   ],
   "source": [
    "client = MongoClient(\"mongodb+srv://<username>:<password>@mydatabase.wo9j7bt.mongodb.net/?retryWrites=true&w=majority\")\n",
    "# Send a ping to confirm a successful connection\n",
    "try:\n",
    "    client.admin.command('ping')\n",
    "    print(\"Pinged your deployment. You successfully connected to MongoDB!\")\n",
    "except Exception as e:\n",
    "    print(e)"
   ]
  },
  {
   "cell_type": "code",
   "execution_count": 20,
   "id": "b506be53",
   "metadata": {},
   "outputs": [
    {
     "name": "stdout",
     "output_type": "stream",
     "text": [
      "[ {'empty': False, 'name': 'HR_db', 'sizeOnDisk': 405504},\n",
      "  {'empty': False, 'name': 'admin', 'sizeOnDisk': 344064},\n",
      "  {'empty': False, 'name': 'local', 'sizeOnDisk': 18331357184}]\n"
     ]
    }
   ],
   "source": [
    "pp.pprint(list(client.list_databases()))"
   ]
  },
  {
   "cell_type": "code",
   "execution_count": 22,
   "id": "80317a59",
   "metadata": {},
   "outputs": [
    {
     "name": "stdout",
     "output_type": "stream",
     "text": [
      "[ { 'idIndex': {'key': {'_id': 1}, 'name': '_id_', 'v': 2},\n",
      "    'info': { 'readOnly': False,\n",
      "              'uuid': Binary(b'\\xec\\xb1\\xaf\\x82\\xbbLGE\\x9cq\\x03\\xc1g`\\xee\\x0b', 4)},\n",
      "    'name': 'applicants_data',\n",
      "    'options': {},\n",
      "    'type': 'collection'}]\n"
     ]
    }
   ],
   "source": [
    "db=client[\"HR_db\"]\n",
    "pp.pprint(list(db.list_collections()))"
   ]
  },
  {
   "cell_type": "code",
   "execution_count": 28,
   "id": "5ea9ce3f",
   "metadata": {},
   "outputs": [
    {
     "data": {
      "text/plain": [
       "0"
      ]
     },
     "execution_count": 28,
     "metadata": {},
     "output_type": "execute_result"
    }
   ],
   "source": [
    "records=db[\"applicants_data\"]\n",
    "records.count_documents({})"
   ]
  },
  {
   "cell_type": "code",
   "execution_count": 29,
   "id": "993cb6f2",
   "metadata": {},
   "outputs": [
    {
     "data": {
      "text/plain": [
       "<pymongo.results.InsertManyResult at 0x28fef12cf10>"
      ]
     },
     "execution_count": 29,
     "metadata": {},
     "output_type": "execute_result"
    }
   ],
   "source": [
    "records.insert_many(applicants)"
   ]
  },
  {
   "cell_type": "code",
   "execution_count": 30,
   "id": "18045624",
   "metadata": {},
   "outputs": [
    {
     "data": {
      "text/plain": [
       "2266"
      ]
     },
     "execution_count": 30,
     "metadata": {},
     "output_type": "execute_result"
    }
   ],
   "source": [
    "records.count_documents({})"
   ]
  },
  {
   "cell_type": "code",
   "execution_count": 31,
   "id": "11ee28f4",
   "metadata": {},
   "outputs": [
    {
     "data": {
      "text/plain": [
       "{'_id': 1,\n",
       " 'createdAt': datetime.datetime(2023, 8, 1, 9, 30, 6, 847000),\n",
       " 'name': 'Rita Brown',\n",
       " 'email': 'Rita Brown@gmail.com',\n",
       " 'birthday': datetime.datetime(1998, 3, 14, 0, 0),\n",
       " 'gender': 'female',\n",
       " 'highestDegree': 'Post Doctorate',\n",
       " 'quizStatus': 'incomplete',\n",
       " 'country': 'LSO'}"
      ]
     },
     "execution_count": 31,
     "metadata": {},
     "output_type": "execute_result"
    }
   ],
   "source": [
    "records.find_one()"
   ]
  },
  {
   "cell_type": "code",
   "execution_count": 32,
   "id": "98423267",
   "metadata": {},
   "outputs": [],
   "source": [
    "# Close the MongoDB connection\n",
    "client.close()"
   ]
  },
  {
   "cell_type": "code",
   "execution_count": null,
   "id": "71ae6775",
   "metadata": {},
   "outputs": [],
   "source": []
  }
 ],
 "metadata": {
  "kernelspec": {
   "display_name": "Python 3 (ipykernel)",
   "language": "python",
   "name": "python3"
  },
  "language_info": {
   "codemirror_mode": {
    "name": "ipython",
    "version": 3
   },
   "file_extension": ".py",
   "mimetype": "text/x-python",
   "name": "python",
   "nbconvert_exporter": "python",
   "pygments_lexer": "ipython3",
   "version": "3.11.4"
  }
 },
 "nbformat": 4,
 "nbformat_minor": 5
}
